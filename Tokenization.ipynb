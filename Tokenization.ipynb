{
 "cells": [
  {
   "cell_type": "code",
   "execution_count": 1,
   "id": "78e5dc43-9f59-4b39-aca4-a7eaa8abd250",
   "metadata": {},
   "outputs": [
    {
     "name": "stderr",
     "output_type": "stream",
     "text": [
      "[nltk_data] Downloading package punkt to\n",
      "[nltk_data]     C:\\Users\\albert.bellamy\\AppData\\Roaming\\nltk_data...\n",
      "[nltk_data]   Unzipping tokenizers\\punkt.zip.\n"
     ]
    }
   ],
   "source": [
    "import nltk\n",
    "nltk.download('punkt')\n",
    "from nltk.tokenize import word_tokenize, sent_tokenize"
   ]
  },
  {
   "cell_type": "code",
   "execution_count": 2,
   "id": "e2b2f93f-32d6-457d-a12c-8127b2a9c436",
   "metadata": {},
   "outputs": [],
   "source": [
    "sentences = \"Hercat's name is Lune. Her dog's name is Max.\""
   ]
  },
  {
   "cell_type": "code",
   "execution_count": 3,
   "id": "598ea463-917e-4a29-b99d-5b530595e5cb",
   "metadata": {},
   "outputs": [
    {
     "data": {
      "text/plain": [
       "[\"Hercat's name is Lune.\", \"Her dog's name is Max.\"]"
      ]
     },
     "execution_count": 3,
     "metadata": {},
     "output_type": "execute_result"
    }
   ],
   "source": [
    "sent_tokenize(sentences)"
   ]
  },
  {
   "cell_type": "code",
   "execution_count": 4,
   "id": "2d351e71-bf7c-42fc-869f-a1815f7df0f6",
   "metadata": {},
   "outputs": [
    {
     "data": {
      "text/plain": [
       "['her', 'cats', \"'\", 'name', 'is', 'luna']"
      ]
     },
     "execution_count": 4,
     "metadata": {},
     "output_type": "execute_result"
    }
   ],
   "source": [
    "sentence = \"her cats' name is luna\"\n",
    "word_tokenize(sentence)"
   ]
  },
  {
   "cell_type": "code",
   "execution_count": 5,
   "id": "d669af2d-6724-420d-8170-349c0c14e046",
   "metadata": {},
   "outputs": [
    {
     "data": {
      "text/plain": [
       "['Her',\n",
       " 'cats',\n",
       " \"'\",\n",
       " 'nam',\n",
       " ',',\n",
       " 'e',\n",
       " 'is',\n",
       " 'Luna',\n",
       " 'and',\n",
       " 'her',\n",
       " 'dog',\n",
       " \"'s\",\n",
       " 'name',\n",
       " 'is',\n",
       " 'Max']"
      ]
     },
     "execution_count": 5,
     "metadata": {},
     "output_type": "execute_result"
    }
   ],
   "source": [
    "sentence_2 = \"Her cats' nam,e is Luna and her dog's name is Max\"\n",
    "word_tokenize(sentence_2)"
   ]
  },
  {
   "cell_type": "code",
   "execution_count": null,
   "id": "16849131-d8e6-4e69-8a16-90c58a29c58f",
   "metadata": {},
   "outputs": [],
   "source": []
  }
 ],
 "metadata": {
  "kernelspec": {
   "display_name": "Python 3 (ipykernel)",
   "language": "python",
   "name": "python3"
  },
  "language_info": {
   "codemirror_mode": {
    "name": "ipython",
    "version": 3
   },
   "file_extension": ".py",
   "mimetype": "text/x-python",
   "name": "python",
   "nbconvert_exporter": "python",
   "pygments_lexer": "ipython3",
   "version": "3.11.7"
  }
 },
 "nbformat": 4,
 "nbformat_minor": 5
}
