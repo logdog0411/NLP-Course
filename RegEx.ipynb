{
 "cells": [
  {
   "cell_type": "code",
   "execution_count": 1,
   "id": "35f80d8a-fd8b-4709-85ce-62fbe5d20a3f",
   "metadata": {},
   "outputs": [],
   "source": [
    "import re"
   ]
  },
  {
   "cell_type": "code",
   "execution_count": 3,
   "id": "4fb59aa4-87d6-40e8-9bbc-139b07aa6dbd",
   "metadata": {},
   "outputs": [
    {
     "name": "stdout",
     "output_type": "stream",
     "text": [
      "C:\\desktop\\notes\n"
     ]
    }
   ],
   "source": [
    "my_folder = r\"C:\\desktop\\notes\"\n",
    "print(my_folder)"
   ]
  },
  {
   "cell_type": "code",
   "execution_count": 4,
   "id": "f421a07d-436e-419d-b0cb-9c8a66fe7cb5",
   "metadata": {},
   "outputs": [],
   "source": [
    "result_search = re.search(\"pattern\", r\"string to contain the pattern\")"
   ]
  },
  {
   "cell_type": "code",
   "execution_count": 5,
   "id": "eeaf346a-aa8a-45b1-8bcc-a50f07ba27a2",
   "metadata": {},
   "outputs": [
    {
     "name": "stdout",
     "output_type": "stream",
     "text": [
      "<re.Match object; span=(22, 29), match='pattern'>\n"
     ]
    }
   ],
   "source": [
    "print(result_search)"
   ]
  },
  {
   "cell_type": "code",
   "execution_count": 6,
   "id": "a9613d54-7a79-4d36-963a-713dbdcb362b",
   "metadata": {},
   "outputs": [
    {
     "name": "stdout",
     "output_type": "stream",
     "text": [
      "pattern\n"
     ]
    }
   ],
   "source": [
    "print(result_search.group())"
   ]
  },
  {
   "cell_type": "code",
   "execution_count": 7,
   "id": "fb96721d-b787-4655-95dd-2726f63a9262",
   "metadata": {},
   "outputs": [
    {
     "name": "stdout",
     "output_type": "stream",
     "text": [
      "None\n"
     ]
    }
   ],
   "source": [
    "result_search = re.search(\"pattern\",r\"the phrase to find isn't in this string\")\n",
    "print(result_search)"
   ]
  },
  {
   "cell_type": "code",
   "execution_count": 8,
   "id": "1eadf279-ee8e-4d18-a7a6-fcf2045c8395",
   "metadata": {},
   "outputs": [],
   "source": [
    "string = r\"sara was able to help me find the items i needed quickly\""
   ]
  },
  {
   "cell_type": "code",
   "execution_count": 9,
   "id": "4ae4ecb4-8da8-4c3b-9d55-1a4c3bc66264",
   "metadata": {},
   "outputs": [
    {
     "name": "stdout",
     "output_type": "stream",
     "text": [
      "sarah was able to help me find the items i needed quickly\n"
     ]
    }
   ],
   "source": [
    "new_string = re.sub(r\"sara\", r\"sarah\", string)\n",
    "print(new_string)"
   ]
  },
  {
   "cell_type": "code",
   "execution_count": 10,
   "id": "bc07f7f7-3f19-4211-a1d6-e58eedb97159",
   "metadata": {},
   "outputs": [],
   "source": [
    "customer_reviews = ['sam was a great help to me in the store', \n",
    "                    'the cashier was very rude to me, I think her name was eleanor', \n",
    "                    'amazing work from sadeen!', \n",
    "                    'sarah was able to help me find the items i needed quickly', \n",
    "                    'lucy is such a great addition to the team', \n",
    "                    'great service from sara she found me what i wanted'\n",
    "                   ]"
   ]
  },
  {
   "cell_type": "code",
   "execution_count": 11,
   "id": "ee5ad116-7cc8-43ef-9264-6e49db5c084e",
   "metadata": {},
   "outputs": [],
   "source": [
    "sarahs_reviews = []\n",
    "pattern_to_find = r\"sarah?\""
   ]
  },
  {
   "cell_type": "code",
   "execution_count": 14,
   "id": "bc394f2f-412f-41ad-91c8-f2b573a5f8db",
   "metadata": {},
   "outputs": [],
   "source": [
    "for string in customer_reviews:\n",
    "    if (re.search(pattern_to_find, string)):\n",
    "        sarahs_reviews.append(string)"
   ]
  },
  {
   "cell_type": "code",
   "execution_count": 15,
   "id": "00d7b1a9-7a38-48d9-815c-3234f6b6e21f",
   "metadata": {},
   "outputs": [
    {
     "name": "stdout",
     "output_type": "stream",
     "text": [
      "['sarah was able to help me find the items i needed quickly', 'great service from sara she found me what i wanted']\n"
     ]
    }
   ],
   "source": [
    "print(sarahs_reviews)"
   ]
  },
  {
   "cell_type": "code",
   "execution_count": 16,
   "id": "f373a619-c8c4-477a-998c-daaeffab50d5",
   "metadata": {},
   "outputs": [],
   "source": [
    "a_reviews = []\n",
    "pattern_to_find = r\"^a\""
   ]
  },
  {
   "cell_type": "code",
   "execution_count": 17,
   "id": "0e7824e5-bd43-48f7-8f55-831a5cdb48f5",
   "metadata": {},
   "outputs": [],
   "source": [
    "for string in customer_reviews:\n",
    "    if (re.search(pattern_to_find, string)):\n",
    "        a_reviews.append(string)"
   ]
  },
  {
   "cell_type": "code",
   "execution_count": 18,
   "id": "ac567b43-9b0b-4130-b98a-8c3a560e8270",
   "metadata": {},
   "outputs": [
    {
     "name": "stdout",
     "output_type": "stream",
     "text": [
      "['amazing work from sadeen!']\n"
     ]
    }
   ],
   "source": [
    "print(a_reviews)"
   ]
  },
  {
   "cell_type": "code",
   "execution_count": 19,
   "id": "5a265e1f-d6c9-4c4f-af3f-52e8d53ecfb8",
   "metadata": {},
   "outputs": [],
   "source": [
    "y_reviews = []\n",
    "pattern_to_find = r\"y$\""
   ]
  },
  {
   "cell_type": "code",
   "execution_count": 20,
   "id": "4933c5d8-c70f-4aab-8908-bcd705dbb017",
   "metadata": {},
   "outputs": [],
   "source": [
    "for string in customer_reviews:\n",
    "    if(re.search(pattern_to_find, string)):\n",
    "        y_reviews.append(string)"
   ]
  },
  {
   "cell_type": "code",
   "execution_count": 21,
   "id": "8b1c0da9-e236-4ec7-94ba-15ada30aaab0",
   "metadata": {},
   "outputs": [
    {
     "name": "stdout",
     "output_type": "stream",
     "text": [
      "['sarah was able to help me find the items i needed quickly']\n"
     ]
    }
   ],
   "source": [
    "print(y_reviews)"
   ]
  },
  {
   "cell_type": "code",
   "execution_count": 22,
   "id": "5b39a20c-5d48-42c7-bc71-15945e77ca3d",
   "metadata": {},
   "outputs": [],
   "source": [
    "needwant_reviews = []\n",
    "pattern_to_find = r\"(need|want)ed\""
   ]
  },
  {
   "cell_type": "code",
   "execution_count": 23,
   "id": "c03baf28-6929-4f37-afbd-96771af8ed85",
   "metadata": {},
   "outputs": [],
   "source": [
    "for string in customer_reviews:\n",
    "    if (re.search(pattern_to_find, string)):\n",
    "        needwant_reviews.append(string)"
   ]
  },
  {
   "cell_type": "code",
   "execution_count": 24,
   "id": "81a06c86-984e-4719-b9a7-ed04779d17d0",
   "metadata": {},
   "outputs": [
    {
     "name": "stdout",
     "output_type": "stream",
     "text": [
      "['sarah was able to help me find the items i needed quickly', 'great service from sara she found me what i wanted']\n"
     ]
    }
   ],
   "source": [
    "print(needwant_reviews)"
   ]
  },
  {
   "cell_type": "code",
   "execution_count": 25,
   "id": "493e4ab3-4e8f-4e5f-808e-f0d7a1d04d21",
   "metadata": {},
   "outputs": [],
   "source": [
    "no_punct_reviews = []\n",
    "pattern_to_find = r\"[^\\w\\s]\""
   ]
  },
  {
   "cell_type": "code",
   "execution_count": 26,
   "id": "497b30bc-e62c-417e-8c16-b2fcaec3c1c9",
   "metadata": {},
   "outputs": [],
   "source": [
    "for string in customer_reviews:\n",
    "    no_punct_string = re.sub(pattern_to_find, \"\", string)\n",
    "    no_punct_reviews.append(no_punct_string)"
   ]
  },
  {
   "cell_type": "code",
   "execution_count": 27,
   "id": "943430b0-998d-4788-848c-c4b6a2432037",
   "metadata": {},
   "outputs": [
    {
     "name": "stdout",
     "output_type": "stream",
     "text": [
      "['sam was a great help to me in the store', 'the cashier was very rude to me I think her name was eleanor', 'amazing work from sadeen', 'sarah was able to help me find the items i needed quickly', 'lucy is such a great addition to the team', 'great service from sara she found me what i wanted']\n"
     ]
    }
   ],
   "source": [
    "print(no_punct_reviews)"
   ]
  },
  {
   "cell_type": "code",
   "execution_count": null,
   "id": "807a94f8-0c87-4d6a-aa12-67ca5ae09b1e",
   "metadata": {},
   "outputs": [],
   "source": []
  }
 ],
 "metadata": {
  "kernelspec": {
   "display_name": "Python 3 (ipykernel)",
   "language": "python",
   "name": "python3"
  },
  "language_info": {
   "codemirror_mode": {
    "name": "ipython",
    "version": 3
   },
   "file_extension": ".py",
   "mimetype": "text/x-python",
   "name": "python",
   "nbconvert_exporter": "python",
   "pygments_lexer": "ipython3",
   "version": "3.11.7"
  }
 },
 "nbformat": 4,
 "nbformat_minor": 5
}
